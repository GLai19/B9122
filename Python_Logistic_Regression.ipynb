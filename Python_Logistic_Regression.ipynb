{
 "cells": [
  {
   "cell_type": "code",
   "execution_count": null,
   "metadata": {},
   "outputs": [],
   "source": [
    "#GuanHung Lai"
   ]
  },
  {
   "cell_type": "markdown",
   "metadata": {},
   "source": [
    "# 1. Logistic Regression"
   ]
  },
  {
   "cell_type": "code",
   "execution_count": 13,
   "metadata": {},
   "outputs": [
    {
     "name": "stdout",
     "output_type": "stream",
     "text": [
      "data.shape = (20779, 5) \n",
      " data[:10, :]=\n",
      " [[2.000000e+00 2.100000e+04 6.190000e+00 1.838800e+00 0.000000e+00]\n",
      " [4.000000e+00 1.888875e+04 7.990000e+00 1.838800e+00 1.000000e+00]\n",
      " [1.000000e+00 3.500000e+04 5.850000e+00 1.838800e+00 0.000000e+00]\n",
      " [2.000000e+00 1.651000e+04 6.190000e+00 1.838800e+00 1.000000e+00]\n",
      " [1.000000e+00 2.700000e+04 5.850000e+00 1.838800e+00 0.000000e+00]\n",
      " [1.000000e+00 1.750000e+04 5.850000e+00 1.838800e+00 0.000000e+00]\n",
      " [2.000000e+00 1.302426e+04 6.190000e+00 1.838800e+00 1.000000e+00]\n",
      " [1.000000e+00 1.000000e+04 5.850000e+00 1.838800e+00 1.000000e+00]\n",
      " [2.000000e+00 3.596000e+04 6.190000e+00 1.838800e+00 0.000000e+00]\n",
      " [2.000000e+00 1.650000e+04 6.190000e+00 1.838800e+00 1.000000e+00]] \n",
      "\n"
     ]
    }
   ],
   "source": [
    "from sklearn import linear_model as lm\n",
    "import matplotlib\n",
    "import matplotlib.pyplot as plt\n",
    "import numpy as np\n",
    "\n",
    "data=np.loadtxt(\"e_car_data.csv\", delimiter=',', skiprows=1,  usecols=(0,4,8,9,7))\n",
    "\n",
    "print(\"data.shape =\",data.shape, \"\\n data[:10, :]=\\n\", data[:10, :],\"\\n\")"
   ]
  },
  {
   "cell_type": "code",
   "execution_count": 14,
   "metadata": {
    "scrolled": true
   },
   "outputs": [
    {
     "name": "stdout",
     "output_type": "stream",
     "text": [
      "x[:10]=\n",
      " [[2.000000e+00 2.100000e+04 6.190000e+00 1.838800e+00]\n",
      " [4.000000e+00 1.888875e+04 7.990000e+00 1.838800e+00]\n",
      " [1.000000e+00 3.500000e+04 5.850000e+00 1.838800e+00]\n",
      " [2.000000e+00 1.651000e+04 6.190000e+00 1.838800e+00]\n",
      " [1.000000e+00 2.700000e+04 5.850000e+00 1.838800e+00]\n",
      " [1.000000e+00 1.750000e+04 5.850000e+00 1.838800e+00]\n",
      " [2.000000e+00 1.302426e+04 6.190000e+00 1.838800e+00]\n",
      " [1.000000e+00 1.000000e+04 5.850000e+00 1.838800e+00]\n",
      " [2.000000e+00 3.596000e+04 6.190000e+00 1.838800e+00]\n",
      " [2.000000e+00 1.650000e+04 6.190000e+00 1.838800e+00]]\n",
      "x has length=20779\n"
     ]
    }
   ],
   "source": [
    "#Tier=0, Amount= 4, apr = 8, prime = 9\n",
    "x=data[:,0:4]\n",
    "print(\"x[:10]=\\n\",x[:10])\n",
    "print(\"x has length=\"+str(len(x)))"
   ]
  },
  {
   "cell_type": "code",
   "execution_count": 15,
   "metadata": {},
   "outputs": [
    {
     "name": "stdout",
     "output_type": "stream",
     "text": [
      "y[:10]= [False  True False  True False False  True  True False  True]\n",
      "Fraction of loans accepted is 0.451\n"
     ]
    }
   ],
   "source": [
    "y=(data[:,4]>0)\n",
    "print(\"y[:10]=\",y[:10])\n",
    "print(\"Fraction of loans accepted is\", '%.3f'% np.mean(y))"
   ]
  },
  {
   "cell_type": "code",
   "execution_count": 16,
   "metadata": {},
   "outputs": [
    {
     "data": {
      "text/plain": [
       "LogisticRegression(C=1.0, class_weight=None, dual=False, fit_intercept=True,\n",
       "          intercept_scaling=1, max_iter=100, multi_class='ovr', n_jobs=1,\n",
       "          penalty='l2', random_state=None, solver='liblinear', tol=0.0001,\n",
       "          verbose=0, warm_start=False)"
      ]
     },
     "execution_count": 16,
     "metadata": {},
     "output_type": "execute_result"
    }
   ],
   "source": [
    "logistic=lm.LogisticRegression()\n",
    "logistic.fit(x,y)\n"
   ]
  },
  {
   "cell_type": "code",
   "execution_count": 17,
   "metadata": {},
   "outputs": [
    {
     "data": {
      "text/plain": [
       "0.6113864959815198"
      ]
     },
     "execution_count": 17,
     "metadata": {},
     "output_type": "execute_result"
    }
   ],
   "source": [
    "##Get R^2\n",
    "logistic.score(x,y)"
   ]
  },
  {
   "cell_type": "code",
   "execution_count": 18,
   "metadata": {
    "scrolled": true
   },
   "outputs": [
    {
     "name": "stdout",
     "output_type": "stream",
     "text": [
      "intercept = [0.04303756]\n",
      "coefficients = [[ 3.99053530e-02 -5.29466457e-05  9.39824417e-02  5.01993799e-02]]\n"
     ]
    }
   ],
   "source": [
    "##Getting intercepts and Coefficients\n",
    "print(\"intercept =\", logistic.intercept_)\n",
    "print(\"coefficients =\",logistic.coef_)"
   ]
  },
  {
   "cell_type": "code",
   "execution_count": 19,
   "metadata": {},
   "outputs": [
    {
     "data": {
      "text/plain": [
       "array([0.42190126, 0.51144534, 0.24451454, ..., 0.58766618, 0.32312832,\n",
       "       0.23964002])"
      ]
     },
     "execution_count": 19,
     "metadata": {},
     "output_type": "execute_result"
    }
   ],
   "source": [
    "ypred=logistic.predict_proba(x)\n",
    "ypred[:,1] ###only the accept column"
   ]
  },
  {
   "cell_type": "code",
   "execution_count": 44,
   "metadata": {},
   "outputs": [
    {
     "name": "stdout",
     "output_type": "stream",
     "text": [
      "Error probability of logistic classifier(in-sample): 0.389\n",
      "RMSE of logistic prediction of probability is:  0.472\n"
     ]
    }
   ],
   "source": [
    "print(\"Error probability of logistic classifier(in-sample):\", '%.3f'%(1-logistic.score(x,y)))\n",
    "print(\"RMSE of logistic prediction of probability is: \", '%.3f'%np.std(y-ypred[:,1]))\n"
   ]
  },
  {
   "cell_type": "code",
   "execution_count": 21,
   "metadata": {},
   "outputs": [
    {
     "data": {
      "image/png": "[encoded data removed]",
      "text/plain": [
       "<Figure size 720x360 with 1 Axes>"
      ]
     },
     "metadata": {},
     "output_type": "display_data"
    }
   ],
   "source": [
    "#Plot the ground truth vs the predicted probability of acceptance using pyplot\n",
    "matplotlib.rcParams.update({'font.size': 25})\n",
    "plt.figure(figsize=(10,5))\n",
    "plt.scatter(ypred[:,1], y, marker = 'x', s = 120.)\n",
    "plt.xlim(0, 1)\n",
    "plt.ylim(-0.2, 1.2)\n",
    "plt.yticks([0,1])\n",
    "plt.xlabel('Predicted probability of acceptance')\n",
    "plt.ylabel('Accepted (1) or not (0)')\n",
    "plt.show()\n"
   ]
  },
  {
   "cell_type": "code",
   "execution_count": 22,
   "metadata": {},
   "outputs": [],
   "source": [
    "Acceptypred = ypred[:,1]\n",
    "countnum = []\n",
    "countnum2 = []\n",
    "countnum3 = []\n",
    "countnum4 = []\n",
    "countnum5 = []\n",
    "\n",
    "for num in Acceptypred:\n",
    "    if num >= 0 and num < 0.2:\n",
    "        countnum.append(num)\n",
    "    if num >= 0.2 and num < 0.4:\n",
    "        countnum2.append(num)\n",
    "    if num >= 0.4 and num < 0.6:\n",
    "        countnum3.append(num)\n",
    "    if num >= 0.6 and num < 0.8:\n",
    "        countnum4.append(num)\n",
    "    if num >= 0.8 and num < 1.0:\n",
    "        countnum5.append(num)\n",
    "        \n",
    "count1 = len(countnum)\n",
    "count2 = len(countnum2)\n",
    "count3 = len(countnum3)\n",
    "count4 = len(countnum4)\n",
    "count5 = len(countnum5)"
   ]
  },
  {
   "cell_type": "code",
   "execution_count": 23,
   "metadata": {},
   "outputs": [],
   "source": [
    "countdenom = []\n",
    "countdenom2 = []\n",
    "countdenom3 = []\n",
    "countdenom4 = []\n",
    "countdenom5 = []\n",
    "\n",
    "for denom in range(len(y)):\n",
    "    if Acceptypred[denom] >= 0 and Acceptypred[denom] < 0.2 and y[denom] == 1:\n",
    "        countdenom.append(denom)\n",
    "    if Acceptypred[denom] >= 0.2 and Acceptypred[denom] < 0.4 and y[denom] == 1:\n",
    "        countdenom2.append(denom)\n",
    "    if Acceptypred[denom] >= 0.4 and Acceptypred[denom] < 0.6 and y[denom] == 1:\n",
    "        countdenom3.append(denom)\n",
    "    if Acceptypred[denom] >= 0.6 and Acceptypred[denom] < 0.8 and y[denom] == 1:\n",
    "        countdenom4.append(denom)\n",
    "    if Acceptypred[denom] >= 0.8 and Acceptypred[denom] < 1.0 and y[denom] == 1:\n",
    "        countdenom5.append(denom)\n",
    "\n",
    "denom1 = len(countdenom)\n",
    "denom2 = len(countdenom2)\n",
    "denom3 = len(countdenom3)\n",
    "denom4 = len(countdenom4)\n",
    "denom5 = len(countdenom5)"
   ]
  },
  {
   "cell_type": "code",
   "execution_count": 24,
   "metadata": {},
   "outputs": [
    {
     "data": {
      "text/plain": [
       "[0.16110019646365423,\n",
       " 0.29798089448545373,\n",
       " 0.6220960790497214,\n",
       " 0.5173745173745173,\n",
       " 0]"
      ]
     },
     "execution_count": 24,
     "metadata": {},
     "output_type": "execute_result"
    }
   ],
   "source": [
    "LIST = [denom1/count1, denom2/count2, denom3/count3, denom4/count4, 0]\n",
    "LIST"
   ]
  },
  {
   "cell_type": "code",
   "execution_count": 40,
   "metadata": {},
   "outputs": [
    {
     "data": {
      "text/plain": [
       "Text(0,0.5,'Percentage')"
      ]
     },
     "execution_count": 40,
     "metadata": {},
     "output_type": "execute_result"
    },
    {
     "data": {
      "image/png": "[encoded data removed]",
      "text/plain": [
       "<Figure size 576x360 with 1 Axes>"
      ]
     },
     "metadata": {},
     "output_type": "display_data"
    }
   ],
   "source": [
    "#Graph the BarPlot\n",
    "import numpy as np\n",
    "bins = ('0,0-0.2','0,2-0.4','0,4-0.6','0,6-0.8','0,8-1.0')\n",
    "ypos = np.arange(len(bins))\n",
    "plt.figure(figsize=(8,5))\n",
    "matplotlib.rcParams.update({'font.size':20})\n",
    "plt.bar(ypos,LIST, align = \"center\")\n",
    "plt.xticks(ypos, bins)\n",
    "plt.title('Prediction Result')\n",
    "plt.xlabel('Probability of Accept Segments')\n",
    "plt.ylabel('Percentage')"
   ]
  },
  {
   "cell_type": "code",
   "execution_count": 38,
   "metadata": {},
   "outputs": [],
   "source": [
    "###C Compute Prob of acceptance for 2 customers\n",
    "### Customer 1: Tier=2, Amount=18000, APR=5, Prime=2.13, Accept=NA\n",
    "### Customer 1: Tier=2, Amount=30000, APR=5, Prime=2.13, Accept=NA"
   ]
  },
  {
   "cell_type": "code",
   "execution_count": 375,
   "metadata": {
    "scrolled": true
   },
   "outputs": [
    {
     "name": "stdout",
     "output_type": "stream",
     "text": [
      "The Acceptance Probability for Customer 1 is [0.43699802]\n",
      "The Acceptance Probability for Customer 2 is [0.29137524]\n"
     ]
    }
   ],
   "source": [
    "Customer1_Prob = logistic.predict_proba([[2, 18000, 5, 2.13]])\n",
    "Customer2_Prob = logistic.predict_proba([[2, 30000, 5, 2.13]])\n",
    "\n",
    "print (\"The Acceptance Probability for Customer 1 is\", Customer1_Prob[:,1])\n",
    "print (\"The Acceptance Probability for Customer 2 is\", Customer2_Prob[:,1])"
   ]
  },
  {
   "cell_type": "markdown",
   "metadata": {},
   "source": [
    "# 2. WEB CRAWLER"
   ]
  },
  {
   "cell_type": "code",
   "execution_count": 2,
   "metadata": {},
   "outputs": [
    {
     "name": "stdout",
     "output_type": "stream",
     "text": [
      "50\n",
      "50\n"
     ]
    }
   ],
   "source": [
    "from bs4 import BeautifulSoup\n",
    "import re, urllib.parse, urllib.request\n",
    "maxNumUrl = 50\n",
    "keywords = [\"finance\", \"engineering\",\"business\",\"research\"]\n",
    "\n",
    "url = \"http://www8.gsb.columbia.edu/\"\n",
    "\n",
    "opened = []\n",
    "seen = dict()\n",
    "urls = dict()\n",
    "urls[url] = 1\n",
    "\n",
    "while len(urls) > 0 and len(opened) < maxNumUrl:\n",
    "    try:\n",
    "        curr_url = max(urls, key=urls.get)\n",
    "        urls.pop(curr_url)\n",
    "        webpage = urllib.request.urlopen(curr_url)\n",
    "        opened.append(curr_url)\n",
    "        \n",
    "    except Exception as ex:\n",
    "        continue \n",
    "    #c    \n",
    "    htmltext = BeautifulSoup(webpage,\"html5lib\")\n",
    "    \n",
    "    #d\n",
    "    score = 0\n",
    "    for text in htmltext.get_text().lower().split():\n",
    "        if text in keywords:\n",
    "            score = score + 1\n",
    "    #e       \n",
    "    seen[curr_url] = score\n",
    "\n",
    "    ##F\n",
    "    if seen[curr_url] > 0:\n",
    "        for tag in htmltext.find_all(href = True): \n",
    "            childUrl = tag['href']         \n",
    "            original_childurl = childUrl\n",
    "            childUrl = urllib.parse.urljoin(url, childUrl)\n",
    "            if url in childUrl and childUrl not in seen:\n",
    "                urls[childUrl] = score\n",
    "\n",
    "print(len(seen))\n",
    "print(len(opened))"
   ]
  },
  {
   "cell_type": "code",
   "execution_count": 11,
   "metadata": {},
   "outputs": [
    {
     "name": "stdout",
     "output_type": "stream",
     "text": [
      "48 http://www8.gsb.columbia.edu/researcharchive/articles/7491\n",
      "48 http://www8.gsb.columbia.edu/researcharchive/articles/7487\n",
      "48 http://www8.gsb.columbia.edu/researcharchive/articles/6364\n",
      "48 http://www8.gsb.columbia.edu/researcharchive/articles/6337\n",
      "48 http://www8.gsb.columbia.edu/researcharchive/articles/6247\n",
      "48 http://www8.gsb.columbia.edu/researcharchive/articles/6136\n",
      "48 http://www8.gsb.columbia.edu/researcharchive/articles/6116\n",
      "48 http://www8.gsb.columbia.edu/researcharchive/articles/6068\n",
      "48 http://www8.gsb.columbia.edu/researcharchive/articles/5950\n",
      "48 http://www8.gsb.columbia.edu/researcharchive/articles/5818\n",
      "48 http://www8.gsb.columbia.edu/researcharchive/articles/5637\n",
      "48 http://www8.gsb.columbia.edu/researcharchive/articles/5625\n",
      "48 http://www8.gsb.columbia.edu/researcharchive/articles/5615\n",
      "48 http://www8.gsb.columbia.edu/researcharchive/articles/4686\n",
      "48 http://www8.gsb.columbia.edu/researcharchive/articles/4610\n",
      "48 http://www8.gsb.columbia.edu/researcharchive/articles/3248\n",
      "48 http://www8.gsb.columbia.edu/researcharchive/articles/25770\n",
      "48 http://www8.gsb.columbia.edu/researcharchive/articles/25769\n",
      "48 http://www8.gsb.columbia.edu/researcharchive/articles/25768\n",
      "48 http://www8.gsb.columbia.edu/researcharchive/articles/25758\n",
      "48 http://www8.gsb.columbia.edu/researcharchive/articles/25721\n",
      "48 http://www8.gsb.columbia.edu/researcharchive/articles/25720\n",
      "48 http://www8.gsb.columbia.edu/researcharchive/articles/25719\n",
      "48 http://www8.gsb.columbia.edu/researcharchive/articles/25718\n",
      "48 http://www8.gsb.columbia.edu/researcharchive/articles/25717\n",
      "Top 25 Scoring URLs: (48, 'http://www8.gsb.columbia.edu/researcharchive/articles/25717')\n"
     ]
    }
   ],
   "source": [
    "list_of_dict = [[v,k] for k, v in urls.items()]\n",
    "list_of_dict.sort(reverse = True)\n",
    "list_of_dict[0:25]\n",
    "for freq, word in list_of_dict[0:25]:\n",
    "    print (freq, word)\n",
    "\n",
    "print(\"Top 25 Scoring URLs:\", (freq, word))"
   ]
  },
  {
   "cell_type": "markdown",
   "metadata": {},
   "source": [
    "# 3. Bash Question"
   ]
  },
  {
   "cell_type": "raw",
   "metadata": {},
   "source": [
    "curl https://archive.ics.uci.edu/ml/machine-learning-databases/iris/bezdekIris.data|cut -d ',' -f 1,5|sort -r|head -n 25|cut -d ',' -f 2|sort -k1|uniq -c > topsepallength.txt"
   ]
  },
  {
   "cell_type": "markdown",
   "metadata": {},
   "source": [
    "# Output:    \n",
    "    3 Iris-versicolor\n",
    "    22 Iris-virginica\n"
   ]
  }
 ],
 "metadata": {
  "kernelspec": {
   "display_name": "Python 3",
   "language": "python",
   "name": "python3"
  },
  "language_info": {
   "codemirror_mode": {
    "name": "ipython",
    "version": 3
   },
   "file_extension": ".py",
   "mimetype": "text/x-python",
   "name": "python",
   "nbconvert_exporter": "python",
   "pygments_lexer": "ipython3",
   "version": "3.6.5"
  }
 },
 "nbformat": 4,
 "nbformat_minor": 2
}
