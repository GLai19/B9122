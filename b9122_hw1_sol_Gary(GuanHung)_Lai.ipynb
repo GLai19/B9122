{
 "cells": [
  {
   "cell_type": "markdown",
   "metadata": {},
   "source": [
    "# QUESTION 1"
   ]
  },
  {
   "cell_type": "code",
   "execution_count": 191,
   "metadata": {},
   "outputs": [
    {
     "data": {
      "text/plain": [
       "'GiryLii'"
      ]
     },
     "execution_count": 191,
     "metadata": {},
     "output_type": "execute_result"
    }
   ],
   "source": [
    "word = \"GaryLai\"\n",
    "word.replace(\"a\",\"i\")"
   ]
  },
  {
   "cell_type": "code",
   "execution_count": 197,
   "metadata": {},
   "outputs": [
    {
     "name": "stdout",
     "output_type": "stream",
     "text": [
      "Please input a word with a for i replacement: GaryLai\n"
     ]
    },
    {
     "data": {
      "text/plain": [
       "'GiryLii'"
      ]
     },
     "execution_count": 197,
     "metadata": {},
     "output_type": "execute_result"
    }
   ],
   "source": [
    "##Make it interactive, so user can choose anyword for letter i replacement\n",
    "\n",
    "word = input(\"Please input a word with a for i replacement: \")\n",
    "\n",
    "word.replace(\"a\",\"i\")"
   ]
  },
  {
   "cell_type": "markdown",
   "metadata": {},
   "source": [
    "# QUESTION 2"
   ]
  },
  {
   "cell_type": "code",
   "execution_count": 159,
   "metadata": {},
   "outputs": [
    {
     "name": "stdout",
     "output_type": "stream",
     "text": [
      "1 * 1 = 1\n",
      "1 * 2 = 2\n",
      "1 * 3 = 3\n",
      "2 * 1 = 2\n",
      "2 * 2 = 4\n",
      "2 * 3 = 6\n",
      "3 * 1 = 3\n",
      "3 * 2 = 6\n",
      "3 * 3 = 9\n"
     ]
    }
   ],
   "source": [
    "##2\n",
    "#if n =4, 1*1, 1*2, 1*3 ,1*4, 2*1,.....2*4, 3*1, 3*2, 3*4, 3*4, 4*1...4*4\n",
    "\n",
    "def multi(n):\n",
    "    a = 1\n",
    "    while a <= n:\n",
    "        b = 1\n",
    "        while b <= n:\n",
    "            s = a * b\n",
    "            print(a, \"*\", b, \"=\", s)\n",
    "            b = b + 1\n",
    "        a = a + 1\n",
    "    \n",
    "multi(3)"
   ]
  },
  {
   "cell_type": "code",
   "execution_count": 157,
   "metadata": {},
   "outputs": [
    {
     "name": "stdout",
     "output_type": "stream",
     "text": [
      "1\n",
      "2\n",
      "3\n",
      "2\n",
      "4\n",
      "6\n",
      "3\n",
      "6\n",
      "9\n"
     ]
    }
   ],
   "source": [
    "a = 1\n",
    "while a <= 3:\n",
    "    b = 1\n",
    "    while b <= 3:\n",
    "        s = a * b\n",
    "        print(s)\n",
    "        b = b + 1\n",
    "    a = a + 1"
   ]
  },
  {
   "cell_type": "markdown",
   "metadata": {},
   "source": [
    "# QUESTION 3"
   ]
  },
  {
   "cell_type": "code",
   "execution_count": 198,
   "metadata": {},
   "outputs": [
    {
     "name": "stdout",
     "output_type": "stream",
     "text": [
      "[(1, 'a'), (2, 'is'), (4, 'This'), (4, 'long'), (8, 'sentence')]\n"
     ]
    }
   ],
   "source": [
    "###List Method\n",
    "sentence = \"This is a long sentence\"\n",
    "word_list = sentence.split()\n",
    "\n",
    "sortinglist = []\n",
    "\n",
    "for word in word_list:\n",
    "    wordslen = len(word)\n",
    "    sortinglist.append((wordslen, word))\n",
    "  \n",
    "sortinglist.sort()\n",
    "print(sortinglist) \n"
   ]
  },
  {
   "cell_type": "code",
   "execution_count": 200,
   "metadata": {},
   "outputs": [
    {
     "name": "stdout",
     "output_type": "stream",
     "text": [
      "please enter a sentence: I am very hungry right now\n",
      "[(1, 'I'), (2, 'am'), (3, 'now'), (4, 'very'), (5, 'right'), (6, 'hungry')]\n"
     ]
    }
   ],
   "source": [
    "###Interactive Mode for list method\n",
    "sentence = input(\"please enter a sentence: \")\n",
    "word_list = sentence.split()\n",
    "\n",
    "sortinglist = []\n",
    "\n",
    "for word in word_list:\n",
    "    wordslen = len(word)\n",
    "    sortinglist.append((wordslen, word))\n",
    "  \n",
    "sortinglist.sort()\n",
    "print(sortinglist) "
   ]
  },
  {
   "cell_type": "code",
   "execution_count": 100,
   "metadata": {
    "scrolled": false
   },
   "outputs": [
    {
     "name": "stdout",
     "output_type": "stream",
     "text": [
      "[['1', ['a']], ['2', ['is']], ['4', ['This', 'long']], ['8', ['sentence']]]\n"
     ]
    }
   ],
   "source": [
    "###Dictionary Method\n",
    "sentence = 'This is a long sentence'\n",
    "word_list = sentence.split()\n",
    "sample_dictionary = {}\n",
    "\n",
    "for word in word_list:\n",
    "    wordslength = len(word)\n",
    "    if wordslength not in sample_dictionary:\n",
    "        sample_dictionary[wordslength] = []\n",
    "    sample_dictionary[wordslength].append(word)\n",
    "    list_key_value = [[k,v] for k, v in sample_dictionary. items()]\n",
    "    list_key_value.sort()\n",
    "print(list_key_value)"
   ]
  },
  {
   "cell_type": "markdown",
   "metadata": {},
   "source": [
    "# QUESTION 4"
   ]
  },
  {
   "cell_type": "code",
   "execution_count": 170,
   "metadata": {},
   "outputs": [
    {
     "name": "stdout",
     "output_type": "stream",
     "text": [
      "6 business\n",
      "5 the\n",
      "5 of\n",
      "4 is\n",
      "4 in\n"
     ]
    }
   ],
   "source": [
    "fh = open('/Users/guan-hunglai/Desktop/ComputingforBusinessResearch/HW/HW1/question4.txt')\n",
    "txt = fh.read()\n",
    "txt = txt.lower()\n",
    "lists = txt.split()\n",
    "\n",
    "dictionary = {}\n",
    "\n",
    "for words in lists:\n",
    "    if words in dictionary:\n",
    "        dictionary[words] += 1\n",
    "    else:\n",
    "        dictionary[words] = 1\n",
    "list_of_dict = [[v,k] for k, v in dictionary.items()]  ###v, k (FOR k, v)to reverse words and numbers so numbers be in front\n",
    "list_of_dict.sort(reverse = True)###Make reverse True so the list turns into descending order\n",
    "list_of_dict[0:5]\n",
    "for freq, word in list_of_dict[0:5]:\n",
    "    print (freq, word)"
   ]
  },
  {
   "cell_type": "code",
   "execution_count": 342,
   "metadata": {
    "scrolled": true
   },
   "outputs": [
    {
     "data": {
      "text/plain": [
       "56"
      ]
     },
     "execution_count": 342,
     "metadata": {},
     "output_type": "execute_result"
    }
   ],
   "source": [
    "lists = txt.split()\n",
    "len(lists)"
   ]
  },
  {
   "cell_type": "markdown",
   "metadata": {},
   "source": [
    "# QUESTION 5"
   ]
  },
  {
   "cell_type": "code",
   "execution_count": 171,
   "metadata": {},
   "outputs": [],
   "source": [
    "import re\n",
    "DateZip = {'1995-08-30':'15620', '1934-11-03':'730212-1235', '9-03-1965': '11109', '1934-09-03':'569321', '2010/4/5':'65GFVE', '1934 05 02':'56932156', '09-24-96':'569321'}"
   ]
  },
  {
   "cell_type": "code",
   "execution_count": 4,
   "metadata": {},
   "outputs": [
    {
     "name": "stdout",
     "output_type": "stream",
     "text": [
      "1995-08-30\n",
      "1934-11-03\n",
      "1934-09-03\n"
     ]
    }
   ],
   "source": [
    "##for year, 1 or 2 followed by three digits, -, \n",
    "##Month: 0+1 to 9 or 1+0 to 1+2, \n",
    "##Day: 0+1 to 9 (01-09)...etc\n",
    "###Note that I [-] for easier comprehension for myself. [-.] means that the separation can be either - or . and nothing else\n",
    "\n",
    "for Date in DateZip.keys():\n",
    "    if(re.search(r'^([12]\\d\\d\\d)[-](0[1-9]|1[0-2])[-]([0[1-9]|[12]\\d|3[01])', Date)):     \n",
    "        print(Date)"
   ]
  },
  {
   "cell_type": "code",
   "execution_count": 196,
   "metadata": {},
   "outputs": [
    {
     "name": "stdout",
     "output_type": "stream",
     "text": [
      "15620\n",
      "730212-1235\n",
      "11109\n",
      "56932\n"
     ]
    }
   ],
   "source": [
    "##Zipcode\n",
    "ZipC = {'15620':123, '730212-1235': 456, '11109': 78, '566471': 9, '65GFVE': 10, '56932156': 11, '56932': 12}\n",
    "###Either matching 5 digits \\d{5} or matches 6digits-4digits \\d{6}-\\d{4}\n",
    "###\\b to match at the boundary, still kind of confused because I guess it restricts the words?\n",
    "#Why is it that \\d{5} alone gives 5 or more digits but not exactly 5?\n",
    "#I searched online and it says add \\b will restrict the words... but what is the underlying intuition\n",
    "\n",
    "for Zipcode in ZipC.keys():\n",
    "    if(re.search(r'((\\b\\d{5}\\b|(\\b\\d{6}\\b[-]\\b\\d{4}\\b)))', Zipcode)):     \n",
    "        print(Zipcode)"
   ]
  },
  {
   "cell_type": "code",
   "execution_count": 48,
   "metadata": {},
   "outputs": [],
   "source": [
    "##EMAIL\n",
    "Email ={'localpart@domain.com': 3, 'Hellohowareyou@gmail.com': 456, 'Thisiscool@yahoo.com': 78, 'Columbia@baidu.com': 9, 'Cool@domain.com': 10,'Cool%domain.edu': 10}\n",
    "###if want to match say two sites, .com and .edu, just do \\.(com|edu)\n",
    "###if want to match numbers in the username, change [a-zA-Z] to [a-zA-Z0-9]. (It means a-z or A-Z or 0-9)"
   ]
  },
  {
   "cell_type": "code",
   "execution_count": 648,
   "metadata": {},
   "outputs": [
    {
     "name": "stdout",
     "output_type": "stream",
     "text": [
      "localpart@domain.com\n",
      "Hellohowareyou@gmail.com\n",
      "Thisiscool@yahoo.com\n",
      "Columbia@baidu.com\n",
      "Cool@domain.com\n"
     ]
    }
   ],
   "source": [
    "for rightdomain in Email.keys():\n",
    "    if(re.search(r'[a-zA-Z]+@[a-zA-Z]+\\.com', rightdomain)):\n",
    "        print(rightdomain)"
   ]
  },
  {
   "cell_type": "markdown",
   "metadata": {},
   "source": [
    "# Question 6\n"
   ]
  },
  {
   "cell_type": "code",
   "execution_count": 156,
   "metadata": {},
   "outputs": [
    {
     "data": {
      "text/plain": [
       "[1, 3]"
      ]
     },
     "execution_count": 156,
     "metadata": {},
     "output_type": "execute_result"
    }
   ],
   "source": [
    "##Way 1, through numpy\n",
    "import numpy as np\n",
    "a = np.array([1, 2, 2, 2])\n",
    "b = np.array([2, 2, 3, 2])\n",
    "\n",
    "index = np.where(a == b)\n",
    "listindex = np.array(index).tolist()\n",
    "listindex[0]"
   ]
  },
  {
   "cell_type": "code",
   "execution_count": 35,
   "metadata": {},
   "outputs": [
    {
     "data": {
      "text/plain": [
       "[1, 3]"
      ]
     },
     "execution_count": 35,
     "metadata": {},
     "output_type": "execute_result"
    }
   ],
   "source": [
    "##Way 2, using for loop\n",
    "import numpy as np\n",
    "a = np.array([1, 2, 3, 2])\n",
    "b = np.array([2, 2, 2, 2])\n",
    "\n",
    "def function(a, b):\n",
    "    lists = []\n",
    "    listindexerror = min(len(a),len(b))\n",
    "    for x in range(listindexerror):\n",
    "        if a[x] == b [x]:\n",
    "            lists.append(x)\n",
    "    return lists\n",
    "    \n",
    "    \n",
    "function(a,b)"
   ]
  }
 ],
 "metadata": {
  "kernelspec": {
   "display_name": "Python 3",
   "language": "python",
   "name": "python3"
  },
  "language_info": {
   "codemirror_mode": {
    "name": "ipython",
    "version": 3
   },
   "file_extension": ".py",
   "mimetype": "text/x-python",
   "name": "python",
   "nbconvert_exporter": "python",
   "pygments_lexer": "ipython3",
   "version": "3.6.5"
  }
 },
 "nbformat": 4,
 "nbformat_minor": 2
}
